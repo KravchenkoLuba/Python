{
 "cells": [
  {
   "cell_type": "markdown",
   "id": "74550dc5",
   "metadata": {},
   "source": [
    "f(x) = (sin(x)/2 + cos(x)/2)**2*sin(x)\n",
    "Определить корни\n",
    "\n",
    "Найти интервалы, на которых функция возрастает\n",
    "\n",
    "Найти интервалы, на которых функция убывает\n",
    "\n",
    "Построить график\n",
    "\n",
    "Вычислить вершину\n",
    "\n",
    "Определить промежутки, на котором f > 0\n",
    "\n",
    "Определить промежутки, на котором f < 0"
   ]
  },
  {
   "cell_type": "code",
   "execution_count": 19,
   "id": "06149366",
   "metadata": {},
   "outputs": [],
   "source": [
    "from sympy import Symbol\n",
    "from sympy import solveset, maximum, minimum, evalf, solve\n",
    "from sympy import sin, cos, pi, sqrt, tan, atan, log\n",
    "from sympy import plot, pprint\n",
    "from sympy import S, Interval, oo"
   ]
  },
  {
   "cell_type": "code",
   "execution_count": 20,
   "id": "502d4069",
   "metadata": {},
   "outputs": [
    {
     "data": {
      "text/latex": [
       "$\\displaystyle \\left(\\frac{\\sin{\\left(x \\right)}}{2} + \\frac{\\cos{\\left(x \\right)}}{2}\\right)^{2} \\sin{\\left(x \\right)}$"
      ],
      "text/plain": [
       "(sin(x)/2 + cos(x)/2)**2*sin(x)"
      ]
     },
     "execution_count": 20,
     "metadata": {},
     "output_type": "execute_result"
    }
   ],
   "source": [
    "x = Symbol('x', real = True)\n",
    "y = (sin(x)/2 + cos(x)/2)**2*sin(x)\n",
    "y"
   ]
  },
  {
   "cell_type": "markdown",
   "id": "65098296",
   "metadata": {},
   "source": [
    "Определить корни"
   ]
  },
  {
   "cell_type": "code",
   "execution_count": 15,
   "id": "a56a3f45",
   "metadata": {},
   "outputs": [
    {
     "name": "stdout",
     "output_type": "stream",
     "text": [
      "[0, -pi/4, 3*pi/4, pi]\n"
     ]
    }
   ],
   "source": [
    "res_solve = solve(y, x, domain = S.Reals)\n",
    "print(res_solve)"
   ]
  },
  {
   "cell_type": "code",
   "execution_count": 16,
   "id": "25a50f55",
   "metadata": {},
   "outputs": [
    {
     "data": {
      "text/latex": [
       "$\\displaystyle \\left\\{2 n \\pi\\; \\middle|\\; n \\in \\mathbb{Z}\\right\\} \\cup \\left\\{2 n \\pi + \\pi\\; \\middle|\\; n \\in \\mathbb{Z}\\right\\} \\cup \\left\\{2 n \\pi + \\frac{3 \\pi}{4}\\; \\middle|\\; n \\in \\mathbb{Z}\\right\\} \\cup \\left\\{2 n \\pi + \\frac{7 \\pi}{4}\\; \\middle|\\; n \\in \\mathbb{Z}\\right\\}$"
      ],
      "text/plain": [
       "Union(ImageSet(Lambda(_n, 2*_n*pi + 3*pi/4), Integers), ImageSet(Lambda(_n, 2*_n*pi + 7*pi/4), Integers), ImageSet(Lambda(_n, 2*_n*pi + pi), Integers), ImageSet(Lambda(_n, 2*_n*pi), Integers))"
      ]
     },
     "execution_count": 16,
     "metadata": {},
     "output_type": "execute_result"
    }
   ],
   "source": [
    "solveset(y, x, domain = S.Reals)"
   ]
  },
  {
   "cell_type": "markdown",
   "id": "1fc28a92",
   "metadata": {},
   "source": [
    "Производная"
   ]
  },
  {
   "cell_type": "code",
   "execution_count": 17,
   "id": "0aa4e458",
   "metadata": {},
   "outputs": [
    {
     "name": "stdout",
     "output_type": "stream",
     "text": [
      "                                                               2       \n",
      "                   ⎛sin(x)   cos(x)⎞          ⎛sin(x)   cos(x)⎞        \n",
      "(-sin(x) + cos(x))⋅⎜────── + ──────⎟⋅sin(x) + ⎜────── + ──────⎟ ⋅cos(x)\n",
      "                   ⎝  2        2   ⎠          ⎝  2        2   ⎠        \n"
     ]
    }
   ],
   "source": [
    "yd = y.diff(x)\n",
    "pprint(yd)"
   ]
  },
  {
   "cell_type": "markdown",
   "id": "b341e7f5",
   "metadata": {},
   "source": [
    "Экстремумы"
   ]
  },
  {
   "cell_type": "code",
   "execution_count": 7,
   "id": "5bb2a596",
   "metadata": {},
   "outputs": [
    {
     "name": "stdout",
     "output_type": "stream",
     "text": [
      "-0.79 \t -pi/4\n",
      "2.36 \t 3*pi/4\n",
      "-2.08 \t -2*atan(-3/2 + sqrt(6)*sqrt(5 - sqrt(17))/2 + sqrt(17)/2)\n",
      "2.87 \t 2*atan(3/2 + sqrt(17)/2 + sqrt(6)*sqrt(sqrt(17) + 5)/2)\n",
      "1.06 \t 2*atan(-sqrt(17)/2 + sqrt(6)*sqrt(5 - sqrt(17))/2 + 3/2)\n",
      "-0.27 \t 2*atan(-sqrt(6)*sqrt(sqrt(17) + 5)/2 + 3/2 + sqrt(17)/2)\n"
     ]
    }
   ],
   "source": [
    "res_solve_yd = solve(yd, x)\n",
    "for i in res_solve_yd:\n",
    "    print(round(i.evalf(), 2), '\\t', i)"
   ]
  },
  {
   "cell_type": "code",
   "execution_count": 8,
   "id": "578cf406",
   "metadata": {},
   "outputs": [
    {
     "name": "stdout",
     "output_type": "stream",
     "text": [
      "-3.14 \t -pi\n",
      "-2.08 \t -2*atan(-3/2 + sqrt(6)*sqrt(5 - sqrt(17))/2 + sqrt(17)/2)\n",
      "-0.79 \t -pi/4\n",
      "-0.27 \t 2*atan(-sqrt(6)*sqrt(sqrt(17) + 5)/2 + 3/2 + sqrt(17)/2)\n",
      "1.06 \t 2*atan(-sqrt(17)/2 + sqrt(6)*sqrt(5 - sqrt(17))/2 + 3/2)\n",
      "2.36 \t 3*pi/4\n",
      "2.87 \t 2*atan(3/2 + sqrt(17)/2 + sqrt(6)*sqrt(sqrt(17) + 5)/2)\n",
      "3.14 \t pi\n"
     ]
    }
   ],
   "source": [
    "if res_solve_yd[-1] != pi:\n",
    "    res_solve_yd.append(pi)\n",
    "if res_solve_yd[0] != -pi:\n",
    "    res_solve_yd.insert(0, -pi)\n",
    "res_solve_yd.sort()\n",
    "for i in res_solve_yd:\n",
    "    print(round(i.evalf(), 2), '\\t', i)"
   ]
  },
  {
   "cell_type": "markdown",
   "id": "2dead311",
   "metadata": {},
   "source": [
    "Возрастание и убывание функции"
   ]
  },
  {
   "cell_type": "code",
   "execution_count": 9,
   "id": "b4f1568a",
   "metadata": {},
   "outputs": [
    {
     "name": "stdout",
     "output_type": "stream",
     "text": [
      "На отрезке (-3.14 : -2.08) - функция убывает\n",
      "На отрезке (-2.08 : -0.79) - функция возрастает\n",
      "На отрезке (-0.79 : -0.27) - функция убывает\n",
      "На отрезке (-0.27 : 1.06) - функция возрастает\n",
      "На отрезке (1.06 : 2.36) - функция убывает\n",
      "На отрезке (2.36 : 2.87) - функция возрастает\n",
      "На отрезке (2.87 : 3.14) - функция убывает\n"
     ]
    }
   ],
   "source": [
    "for i in range(len(res_solve_yd)-1):\n",
    "    res = yd.subs(x, (res_solve_yd[i+1] + res_solve_yd[i])/2.0)\n",
    "    if res > 0:\n",
    "        pprint(f'На отрезке ({round(res_solve_yd[i].evalf(), 2)} : {round(res_solve_yd[i+1].evalf(), 2)}) - функция возрастает')\n",
    "    else:\n",
    "        pprint(f'На отрезке ({round(res_solve_yd[i].evalf(), 2)} : {round(res_solve_yd[i+1].evalf(), 2)}) - функция убывает')\n",
    "               "
   ]
  },
  {
   "cell_type": "markdown",
   "id": "f1da175c",
   "metadata": {},
   "source": [
    "График"
   ]
  },
  {
   "cell_type": "code",
   "execution_count": 10,
   "id": "22f18171",
   "metadata": {},
   "outputs": [
    {
     "data": {
      "image/png": "[encoded data removed]",
      "text/plain": [
       "<Figure size 432x288 with 1 Axes>"
      ]
     },
     "metadata": {
      "needs_background": "light"
     },
     "output_type": "display_data"
    }
   ],
   "source": [
    "graph = plot(y, (x, -pi, pi))"
   ]
  },
  {
   "cell_type": "markdown",
   "id": "6d4f4d53",
   "metadata": {},
   "source": [
    "Вершина"
   ]
  },
  {
   "cell_type": "code",
   "execution_count": 21,
   "id": "34b27fc4",
   "metadata": {},
   "outputs": [
    {
     "name": "stdout",
     "output_type": "stream",
     "text": [
      "y_max =  0.404\n",
      "y_min =  -0.404\n"
     ]
    }
   ],
   "source": [
    "y_max = maximum(y, x, Interval(-pi, pi)).evalf()\n",
    "y_min = minimum(y, x, Interval(-pi, pi)).evalf()\n",
    "\n",
    "\n",
    "print('y_max = ', round(y_max, 3))\n",
    "print('y_min = ', round(y_min, 3))"
   ]
  },
  {
   "cell_type": "code",
   "execution_count": 22,
   "id": "20dd04d3",
   "metadata": {},
   "outputs": [
    {
     "name": "stdout",
     "output_type": "stream",
     "text": [
      "Вершина 1: x = -3.14, y = 0\n",
      "Вершина 2: x = -2.08, y = -0.40\n",
      "Вершина 3: x = -0.79, y = 0\n",
      "Вершина 4: x = -0.27, y = -0.03\n",
      "Вершина 5: x = 1.06, y = 0.40\n",
      "Вершина 6: x = 2.36, y = 0\n",
      "Вершина 7: x = 2.87, y = 0.03\n",
      "Вершина 8: x = 3.14, y = 0\n",
      "\n",
      "y_max =  0.404106232073136\n",
      "y_min =  -0.404106232073136\n"
     ]
    }
   ],
   "source": [
    "for i in range(len(res_solve_yd)):\n",
    "    res = y.subs(x, res_solve_yd[i])\n",
    "    print(f'Вершина {i+1}: x = {round(res_solve_yd[i].evalf(), 2)}, y = {round(res, 2)}')\n",
    "    if i == 0:\n",
    "        ymax = res\n",
    "        ymin = res\n",
    "    else:\n",
    "        if res < ymin:\n",
    "            ymin = res\n",
    "        if res > ymax:\n",
    "            ymax = res\n",
    "print()\n",
    "print('y_max = ', ymax.evalf())\n",
    "print('y_min = ', ymin.evalf())"
   ]
  },
  {
   "cell_type": "markdown",
   "id": "9e64ee0f",
   "metadata": {},
   "source": [
    "Промежутки на которых f>0 и f<0"
   ]
  },
  {
   "cell_type": "code",
   "execution_count": 23,
   "id": "9f2b142a",
   "metadata": {},
   "outputs": [
    {
     "name": "stdout",
     "output_type": "stream",
     "text": [
      "[-pi, -pi/4, 0, 3*pi/4, pi]\n"
     ]
    }
   ],
   "source": [
    "if res_solve[-1] != pi:\n",
    "    res_solve.append(pi)\n",
    "if res_solve[0] != -pi:\n",
    "    res_solve.insert(0, -pi)\n",
    "res_solve.sort()\n",
    "print(res_solve)"
   ]
  },
  {
   "cell_type": "code",
   "execution_count": 24,
   "id": "53c8041b",
   "metadata": {},
   "outputs": [
    {
     "name": "stdout",
     "output_type": "stream",
     "text": [
      "На отрезке (-pi : -pi/4 - f < 0)\n",
      "На отрезке (-pi/4 : 0 - f < 0)\n",
      "На отрезке (0 : 3*pi/4 - f > 0)\n",
      "На отрезке (3*pi/4 : pi - f > 0)\n"
     ]
    }
   ],
   "source": [
    "for i in range(len(res_solve)-1):\n",
    "    res = y.subs(x, (res_solve[i+1] + res_solve[i])/2.0)\n",
    "    if res > 0:\n",
    "        pprint(f'На отрезке ({res_solve[i]} : {res_solve[i+1]} - f > 0)')\n",
    "    else:\n",
    "        pprint(f'На отрезке ({res_solve[i]} : {res_solve[i+1]} - f < 0)')\n",
    "        "
   ]
  },
  {
   "cell_type": "code",
   "execution_count": null,
   "id": "ce175065",
   "metadata": {},
   "outputs": [],
   "source": []
  }
 ],
 "metadata": {
  "kernelspec": {
   "display_name": "Python 3 (ipykernel)",
   "language": "python",
   "name": "python3"
  },
  "language_info": {
   "codemirror_mode": {
    "name": "ipython",
    "version": 3
   },
   "file_extension": ".py",
   "mimetype": "text/x-python",
   "name": "python",
   "nbconvert_exporter": "python",
   "pygments_lexer": "ipython3",
   "version": "3.9.12"
  }
 },
 "nbformat": 4,
 "nbformat_minor": 5
}
